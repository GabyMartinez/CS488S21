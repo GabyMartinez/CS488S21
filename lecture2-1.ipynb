{
  "nbformat": 4,
  "nbformat_minor": 0,
  "metadata": {
    "colab": {
      "name": "lecture 2-1.ipynb",
      "provenance": [],
      "collapsed_sections": [],
      "authorship_tag": "ABX9TyMnCST0zreMFE24x5xLwuo0",
      "include_colab_link": true
    },
    "kernelspec": {
      "name": "python3",
      "display_name": "Python 3"
    }
  },
  "cells": [
    {
      "cell_type": "markdown",
      "metadata": {
        "id": "view-in-github",
        "colab_type": "text"
      },
      "source": [
        "<a href=\"https://colab.research.google.com/github/GabyMartinez/CS488S21/blob/main/lecture2-1.ipynb\" target=\"_parent\"><img src=\"https://colab.research.google.com/assets/colab-badge.svg\" alt=\"Open In Colab\"/></a>"
      ]
    },
    {
      "cell_type": "markdown",
      "metadata": {
        "id": "T0cuI9vKGJpA"
      },
      "source": [
        "4 Feb 2021\r\n",
        "Python Crash Course day 1\r\n",
        "\r\n",
        "You can save colab notebook to github or open jupyter notebooks from github\r\n",
        "\r\n",
        "Python is an interpreted language - like a script language. Does not need a main function to know where code starts. Python run line by line.\r\n",
        "\r\n",
        "Python 3 is not compatible w/ Python 2.\r\n",
        "Google Collab is Python 3\r\n",
        "\r\n",
        "You can run unix commands (!)"
      ]
    },
    {
      "cell_type": "code",
      "metadata": {
        "colab": {
          "base_uri": "https://localhost:8080/"
        },
        "id": "loKerE2hFpJ6",
        "outputId": "708b119c-f9d2-4ded-c91f-d2dbbfad842b"
      },
      "source": [
        "!ls"
      ],
      "execution_count": 1,
      "outputs": [
        {
          "output_type": "stream",
          "text": [
            "sample_data\n"
          ],
          "name": "stdout"
        }
      ]
    },
    {
      "cell_type": "code",
      "metadata": {
        "id": "DW6ZjOBXJ99R"
      },
      "source": [
        "!git push\r\n",
        "#cool"
      ],
      "execution_count": null,
      "outputs": []
    },
    {
      "cell_type": "markdown",
      "metadata": {
        "id": "-efBEBDaJ8o4"
      },
      "source": [
        "Submit assignments on gradescope."
      ]
    },
    {
      "cell_type": "markdown",
      "metadata": {
        "id": "r2iJ1EpyMotS"
      },
      "source": [
        "Python code is a repl language. It is interpreted into machine language and then evaluated.\r\n",
        "\r\n",
        "REPL language - can use as a calculator and expect an answer immediately. \r\n",
        "\r\n",
        "REPL - read, eval, print, loop "
      ]
    },
    {
      "cell_type": "code",
      "metadata": {
        "colab": {
          "base_uri": "https://localhost:8080/"
        },
        "id": "ErSSSyP2NQPM",
        "outputId": "747e418a-7400-42b3-bdc3-f674f89f5aa6"
      },
      "source": [
        "1+3"
      ],
      "execution_count": 3,
      "outputs": [
        {
          "output_type": "execute_result",
          "data": {
            "text/plain": [
              "4"
            ]
          },
          "metadata": {
            "tags": []
          },
          "execution_count": 3
        }
      ]
    },
    {
      "cell_type": "markdown",
      "metadata": {
        "id": "Sv0mqfXeNt6y"
      },
      "source": [
        "PEMDAS order"
      ]
    },
    {
      "cell_type": "code",
      "metadata": {
        "colab": {
          "base_uri": "https://localhost:8080/"
        },
        "id": "lPdMNNg-OCqf",
        "outputId": "9656362e-5799-4529-c3a5-af7edb3e8f7c"
      },
      "source": [
        "8/3"
      ],
      "execution_count": 6,
      "outputs": [
        {
          "output_type": "execute_result",
          "data": {
            "text/plain": [
              "2.6666666666666665"
            ]
          },
          "metadata": {
            "tags": []
          },
          "execution_count": 6
        }
      ]
    },
    {
      "cell_type": "markdown",
      "metadata": {
        "id": "CvOmDVMjOKuw"
      },
      "source": [
        "^ in java / is integer division. \r\n",
        "\r\n",
        "Python - don't have to declare number types. Interpreter is determine data type for you.\r\n",
        "\r\n",
        "functions to know the data type of variables:\r\n",
        "type()\r\n",
        "casting:\r\n",
        "\r\n",
        "\r\n"
      ]
    },
    {
      "cell_type": "code",
      "metadata": {
        "colab": {
          "base_uri": "https://localhost:8080/"
        },
        "id": "FbzFA2WOOfB6",
        "outputId": "416d2c0b-7fa9-49af-c155-48c1806243c1"
      },
      "source": [
        "a = 3.5\r\n",
        "type(a)\r\n",
        "type(\"abc\")"
      ],
      "execution_count": 11,
      "outputs": [
        {
          "output_type": "execute_result",
          "data": {
            "text/plain": [
              "str"
            ]
          },
          "metadata": {
            "tags": []
          },
          "execution_count": 11
        }
      ]
    },
    {
      "cell_type": "code",
      "metadata": {
        "id": "daXbGnxnPYcj"
      },
      "source": [
        "int a = 1.1 #casted down to 1 bc 1.1 doesn't fit an int"
      ],
      "execution_count": null,
      "outputs": []
    },
    {
      "cell_type": "code",
      "metadata": {
        "colab": {
          "base_uri": "https://localhost:8080/",
          "height": 182
        },
        "id": "JIMsQvTAPmD9",
        "outputId": "ef918ec2-b55c-46e9-9f68-58bc1d5294aa"
      },
      "source": [
        "a = 'a' \r\n",
        "int(a)"
      ],
      "execution_count": 15,
      "outputs": [
        {
          "output_type": "error",
          "ename": "ValueError",
          "evalue": "ignored",
          "traceback": [
            "\u001b[0;31m---------------------------------------------------------------------------\u001b[0m",
            "\u001b[0;31mValueError\u001b[0m                                Traceback (most recent call last)",
            "\u001b[0;32m<ipython-input-15-40f988394206>\u001b[0m in \u001b[0;36m<module>\u001b[0;34m()\u001b[0m\n\u001b[1;32m      1\u001b[0m \u001b[0ma\u001b[0m \u001b[0;34m=\u001b[0m \u001b[0;34m'a'\u001b[0m\u001b[0;34m\u001b[0m\u001b[0;34m\u001b[0m\u001b[0m\n\u001b[0;32m----> 2\u001b[0;31m \u001b[0mint\u001b[0m\u001b[0;34m(\u001b[0m\u001b[0ma\u001b[0m\u001b[0;34m)\u001b[0m\u001b[0;34m\u001b[0m\u001b[0;34m\u001b[0m\u001b[0m\n\u001b[0m",
            "\u001b[0;31mValueError\u001b[0m: invalid literal for int() with base 10: 'a'"
          ]
        }
      ]
    },
    {
      "cell_type": "code",
      "metadata": {
        "colab": {
          "base_uri": "https://localhost:8080/",
          "height": 35
        },
        "id": "52iCj6ZsVBnB",
        "outputId": "b3adf361-a8dd-4354-c6d7-58632265a949"
      },
      "source": [
        "x = \"John's brother said: \\'test\\' \"\r\n",
        "x\r\n",
        "# print(x)"
      ],
      "execution_count": 22,
      "outputs": [
        {
          "output_type": "execute_result",
          "data": {
            "application/vnd.google.colaboratory.intrinsic+json": {
              "type": "string"
            },
            "text/plain": [
              "\"John's brother said: 'test' \""
            ]
          },
          "metadata": {
            "tags": []
          },
          "execution_count": 22
        }
      ]
    },
    {
      "cell_type": "code",
      "metadata": {
        "id": "v1w328YUVsIn"
      },
      "source": [
        "#from command line input\r\n",
        "./a.out 1 2 3 #arg[0]=\"a.out\" arg[1]=1 arg[2]=2 arg[3]=3"
      ],
      "execution_count": null,
      "outputs": []
    },
    {
      "cell_type": "code",
      "metadata": {
        "colab": {
          "base_uri": "https://localhost:8080/"
        },
        "id": "zSMOUrWWWJHD",
        "outputId": "be103af5-420b-4334-b591-4df4586c5d9f"
      },
      "source": [
        "%%writefile test.py\r\n",
        "#writes a file\r\n",
        "\r\n",
        "import sys\r\n",
        "#get system input\r\n",
        "\r\n",
        "x=int(sys.argv[1]) #set them up as ints\r\n",
        "y=int(sys.argv[2])\r\n",
        "\r\n",
        "print(\"the sum of \" + str(x) + \" and \" + str(y) + \" is \"+str(x+y)) #cast as strings\r\n",
        "print(sys.argv[0])"
      ],
      "execution_count": 29,
      "outputs": [
        {
          "output_type": "stream",
          "text": [
            "Overwriting test.py\n"
          ],
          "name": "stdout"
        }
      ]
    },
    {
      "cell_type": "code",
      "metadata": {
        "colab": {
          "base_uri": "https://localhost:8080/"
        },
        "id": "yH6UxfxYZPAk",
        "outputId": "65d529ff-a6a6-45dc-da60-acf96b645f8e"
      },
      "source": [
        "!ls"
      ],
      "execution_count": 27,
      "outputs": [
        {
          "output_type": "stream",
          "text": [
            "sample_data  test.py\n"
          ],
          "name": "stdout"
        }
      ]
    },
    {
      "cell_type": "code",
      "metadata": {
        "colab": {
          "base_uri": "https://localhost:8080/"
        },
        "id": "4_PxYZ8-Za0y",
        "outputId": "0e35d6b8-ff13-4d71-cc9c-2b5e22d46e23"
      },
      "source": [
        "!python3 ./test.py 3 5"
      ],
      "execution_count": 30,
      "outputs": [
        {
          "output_type": "stream",
          "text": [
            "the sum of 3 and 5 is 8\n",
            "./test.py\n"
          ],
          "name": "stdout"
        }
      ]
    }
  ]
}