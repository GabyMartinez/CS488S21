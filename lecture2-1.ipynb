{
  "nbformat": 4,
  "nbformat_minor": 0,
  "metadata": {
    "colab": {
      "name": "lecture 2-1.ipynb",
      "provenance": [],
      "authorship_tag": "ABX9TyPoCvdLQGRZaexNPN0ih3S3",
      "include_colab_link": true
    },
    "kernelspec": {
      "name": "python3",
      "display_name": "Python 3"
    }
  },
  "cells": [
    {
      "cell_type": "markdown",
      "metadata": {
        "id": "view-in-github",
        "colab_type": "text"
      },
      "source": [
        "<a href=\"https://colab.research.google.com/github/GabyMartinez/CS488S21/blob/main/lecture2-1.ipynb\" target=\"_parent\"><img src=\"https://colab.research.google.com/assets/colab-badge.svg\" alt=\"Open In Colab\"/></a>"
      ]
    },
    {
      "cell_type": "markdown",
      "metadata": {
        "id": "T0cuI9vKGJpA"
      },
      "source": [
        "4 Feb 2021\r\n",
        "Python Crash Course day 1\r\n",
        "\r\n",
        "You can save colab notebook to github or open jupyter notebooks from github\r\n",
        "\r\n",
        "Python is an interpreted language - like a script language. Does not need a main function to know where code starts. Python run line by line.\r\n",
        "\r\n",
        "Python 3 is not compatible w/ Python 2.\r\n",
        "Google Collab is Python 3\r\n",
        "\r\n",
        "You can run unix commands (!)"
      ]
    },
    {
      "cell_type": "code",
      "metadata": {
        "colab": {
          "base_uri": "https://localhost:8080/"
        },
        "id": "loKerE2hFpJ6",
        "outputId": "708b119c-f9d2-4ded-c91f-d2dbbfad842b"
      },
      "source": [
        "!ls"
      ],
      "execution_count": 1,
      "outputs": [
        {
          "output_type": "stream",
          "text": [
            "sample_data\n"
          ],
          "name": "stdout"
        }
      ]
    },
    {
      "cell_type": "code",
      "metadata": {
        "id": "DW6ZjOBXJ99R"
      },
      "source": [
        "!git push\r\n",
        "#cool"
      ],
      "execution_count": null,
      "outputs": []
    },
    {
      "cell_type": "markdown",
      "metadata": {
        "id": "-efBEBDaJ8o4"
      },
      "source": [
        "Submit assignments on gradescope."
      ]
    }
  ]
}